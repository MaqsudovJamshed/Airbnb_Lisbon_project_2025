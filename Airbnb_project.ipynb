{
 "cells": [
  {
   "cell_type": "markdown",
   "id": "fad6749e-98f4-4904-bd43-d0872223a4ab",
   "metadata": {},
   "source": [
    "EDA Analysis Airbnb Lisbon"
   ]
  },
  {
   "cell_type": "code",
   "execution_count": null,
   "id": "2e1b0361-c3d7-4290-80f4-e04ff626b3d2",
   "metadata": {},
   "outputs": [],
   "source": []
  },
  {
   "cell_type": "code",
   "execution_count": null,
   "id": "61a6d0e3-125c-4aa1-a3df-b7a37425f129",
   "metadata": {},
   "outputs": [],
   "source": []
  },
  {
   "cell_type": "code",
   "execution_count": null,
   "id": "91556de5-15fd-4f7f-a063-f3d2a5d787fc",
   "metadata": {},
   "outputs": [],
   "source": []
  },
  {
   "cell_type": "code",
   "execution_count": null,
   "id": "1c5c1dbb-9d16-4fb0-81a7-408fe028b6fa",
   "metadata": {},
   "outputs": [],
   "source": []
  },
  {
   "cell_type": "code",
   "execution_count": null,
   "id": "1b90b24e-f0ee-4cb8-9271-80df32a4b2b0",
   "metadata": {},
   "outputs": [],
   "source": []
  },
  {
   "cell_type": "code",
   "execution_count": null,
   "id": "5a83bfdd-3e0d-4e73-a444-265fc966acdd",
   "metadata": {},
   "outputs": [],
   "source": []
  }
 ],
 "metadata": {
  "kernelspec": {
   "display_name": "Python 3 (ipykernel)",
   "language": "python",
   "name": "python3"
  },
  "language_info": {
   "codemirror_mode": {
    "name": "ipython",
    "version": 3
   },
   "file_extension": ".py",
   "mimetype": "text/x-python",
   "name": "python",
   "nbconvert_exporter": "python",
   "pygments_lexer": "ipython3",
   "version": "3.12.4"
  }
 },
 "nbformat": 4,
 "nbformat_minor": 5
}
