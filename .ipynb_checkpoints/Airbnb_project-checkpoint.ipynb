{
 "cells": [
  {
   "cell_type": "markdown",
   "id": "fad6749e-98f4-4904-bd43-d0872223a4ab",
   "metadata": {},
   "source": [
    "EDA Analysis Airbnb Lisbon"
   ]
  },
  {
   "cell_type": "code",
   "execution_count": 2,
   "id": "2e1b0361-c3d7-4290-80f4-e04ff626b3d2",
   "metadata": {},
   "outputs": [],
   "source": [
    "import pandas as pd\n",
    "import seaborn as sns\n",
    "import matplotlib.pyplot as plt"
   ]
  },
  {
   "cell_type": "markdown",
   "id": "79c69411-b3a1-459d-890e-05c41d91d968",
   "metadata": {},
   "source": [
    "Summary: Key Questions for EDA\n",
    "\n",
    "\t•\tWhat does the dataset look like (columns, types, missing)?\n",
    "\t•\tWhat’s the price distribution?\n",
    "\t•\tWhich neighbourhoods are most popular?\n",
    "\t•\tHow does price vary by neighbourhood?\n",
    "\t•\tWhat are the room types and how do they differ?\n",
    "\t•\tAre there any outliers?\n",
    "\t•\tHow does availability vary?\n",
    "\t•\tAre reviews linked to price or popularity?\n",
    "\t•\tAny patterns in minimum nights or extra fees?"
   ]
  },
  {
   "cell_type": "code",
   "execution_count": 7,
   "id": "b79e3a1f-42dc-4e5d-9715-0473c7381b67",
   "metadata": {},
   "outputs": [
    {
     "name": "stdout",
     "output_type": "stream",
     "text": [
      "/Users/jamshedmaqsudov/Airbnb_Lisbon_project_2025\n"
     ]
    }
   ],
   "source": [
    "import os\n",
    "print(os.getcwd())"
   ]
  },
  {
   "cell_type": "markdown",
   "id": "0ba5a1f2-5b3b-4acf-abfb-fc31d3b60f48",
   "metadata": {},
   "source": [
    "EDA Finding\tReal-World Insight\n",
    "Some neighbourhoods are much more expensive\tThese may be luxury zones or tourist hubs\n",
    "Entire homes cost 3x more than private rooms\tClear pricing tiers based on privacy\n",
    "Outliers in price\tPossible data errors or luxury listings\n",
    "Listings with high reviews but low price\tPossibly undervalued or high competition"
   ]
  },
  {
   "cell_type": "code",
   "execution_count": 13,
   "id": "ade89c65-73e0-43e3-a9b6-ea4c1993f177",
   "metadata": {},
   "outputs": [],
   "source": [
    "listings = pd.read_csv(\"/Users/jamshedmaqsudov/Airbnb_Lisbon_project_2025/listings.csv\")"
   ]
  },
  {
   "cell_type": "markdown",
   "id": "3d857c79-daaf-423b-b1a5-e4e4eccb5a5a",
   "metadata": {},
   "source": [
    "### Key Columns (clarified)\n",
    "\n",
    "- **neighbourhood_group**: Broad area or region of the city (sometimes missing or unused).\n",
    "- **room_type**: The kind of space offered — e.g., \"Entire home/apt\", \"Private room\", or \"Shared room\".\n",
    "- **reviews_per_month**: Average number of reviews per month. Often missing (NaN) if there are no reviews.\n",
    "- **calculated_host_listings_count**: Total number of listings a host has — helps detect professional hosts.\n",
    "- **availability_365**: Number of days in a year the listing is marked as available.\n",
    "- **number_of_reviews_ltm**: Total reviews received in the last 12 months (\"ltm\" = last twelve months)."
   ]
  },
  {
   "cell_type": "code",
   "execution_count": 15,
   "id": "cc0ec4a7-caea-44e7-8aad-6ef8804e3f26",
   "metadata": {},
   "outputs": [
    {
     "data": {
      "text/html": [
       "<div>\n",
       "<style scoped>\n",
       "    .dataframe tbody tr th:only-of-type {\n",
       "        vertical-align: middle;\n",
       "    }\n",
       "\n",
       "    .dataframe tbody tr th {\n",
       "        vertical-align: top;\n",
       "    }\n",
       "\n",
       "    .dataframe thead th {\n",
       "        text-align: right;\n",
       "    }\n",
       "</style>\n",
       "<table border=\"1\" class=\"dataframe\">\n",
       "  <thead>\n",
       "    <tr style=\"text-align: right;\">\n",
       "      <th></th>\n",
       "      <th>id</th>\n",
       "      <th>name</th>\n",
       "      <th>host_id</th>\n",
       "      <th>host_name</th>\n",
       "      <th>neighbourhood_group</th>\n",
       "      <th>neighbourhood</th>\n",
       "      <th>latitude</th>\n",
       "      <th>longitude</th>\n",
       "      <th>room_type</th>\n",
       "      <th>price</th>\n",
       "      <th>minimum_nights</th>\n",
       "      <th>number_of_reviews</th>\n",
       "      <th>last_review</th>\n",
       "      <th>reviews_per_month</th>\n",
       "      <th>calculated_host_listings_count</th>\n",
       "      <th>availability_365</th>\n",
       "      <th>number_of_reviews_ltm</th>\n",
       "      <th>license</th>\n",
       "    </tr>\n",
       "  </thead>\n",
       "  <tbody>\n",
       "    <tr>\n",
       "      <th>0</th>\n",
       "      <td>6499</td>\n",
       "      <td>Belém 1 Bedroom Historical Apartment</td>\n",
       "      <td>14455</td>\n",
       "      <td>Bruno</td>\n",
       "      <td>Lisboa</td>\n",
       "      <td>Belm</td>\n",
       "      <td>38.69750</td>\n",
       "      <td>-9.19768</td>\n",
       "      <td>Entire home/apt</td>\n",
       "      <td>73.0</td>\n",
       "      <td>3</td>\n",
       "      <td>82</td>\n",
       "      <td>2025-03-01</td>\n",
       "      <td>0.64</td>\n",
       "      <td>1</td>\n",
       "      <td>284</td>\n",
       "      <td>18</td>\n",
       "      <td>NaN</td>\n",
       "    </tr>\n",
       "    <tr>\n",
       "      <th>1</th>\n",
       "      <td>25659</td>\n",
       "      <td>Heart of Alfama - Le cœur d'Alfama (3 people)</td>\n",
       "      <td>107347</td>\n",
       "      <td>Ellie</td>\n",
       "      <td>Lisboa</td>\n",
       "      <td>Santa Maria Maior</td>\n",
       "      <td>38.71241</td>\n",
       "      <td>-9.12706</td>\n",
       "      <td>Entire home/apt</td>\n",
       "      <td>106.0</td>\n",
       "      <td>2</td>\n",
       "      <td>215</td>\n",
       "      <td>2024-11-11</td>\n",
       "      <td>1.62</td>\n",
       "      <td>1</td>\n",
       "      <td>298</td>\n",
       "      <td>13</td>\n",
       "      <td>56539/AL.</td>\n",
       "    </tr>\n",
       "    <tr>\n",
       "      <th>2</th>\n",
       "      <td>29396</td>\n",
       "      <td>Alfama Hill - Boutique apartment</td>\n",
       "      <td>126415</td>\n",
       "      <td>Mónica</td>\n",
       "      <td>Lisboa</td>\n",
       "      <td>Santa Maria Maior</td>\n",
       "      <td>38.71156</td>\n",
       "      <td>-9.12987</td>\n",
       "      <td>Entire home/apt</td>\n",
       "      <td>75.0</td>\n",
       "      <td>3</td>\n",
       "      <td>416</td>\n",
       "      <td>2025-02-27</td>\n",
       "      <td>2.67</td>\n",
       "      <td>1</td>\n",
       "      <td>206</td>\n",
       "      <td>30</td>\n",
       "      <td>28737/AL</td>\n",
       "    </tr>\n",
       "    <tr>\n",
       "      <th>3</th>\n",
       "      <td>29720</td>\n",
       "      <td>TheHOUSE - Your luxury home</td>\n",
       "      <td>128075</td>\n",
       "      <td>Francisco</td>\n",
       "      <td>Lisboa</td>\n",
       "      <td>Estrela</td>\n",
       "      <td>38.71108</td>\n",
       "      <td>-9.15979</td>\n",
       "      <td>Entire home/apt</td>\n",
       "      <td>1065.0</td>\n",
       "      <td>2</td>\n",
       "      <td>142</td>\n",
       "      <td>2025-02-02</td>\n",
       "      <td>0.82</td>\n",
       "      <td>1</td>\n",
       "      <td>247</td>\n",
       "      <td>22</td>\n",
       "      <td>55695/AL</td>\n",
       "    </tr>\n",
       "    <tr>\n",
       "      <th>4</th>\n",
       "      <td>29915</td>\n",
       "      <td>Modern and Spacious Apartment in Lisboa</td>\n",
       "      <td>128890</td>\n",
       "      <td>Sara</td>\n",
       "      <td>Lisboa</td>\n",
       "      <td>Avenidas Novas</td>\n",
       "      <td>38.74571</td>\n",
       "      <td>-9.15264</td>\n",
       "      <td>Entire home/apt</td>\n",
       "      <td>95.0</td>\n",
       "      <td>6</td>\n",
       "      <td>61</td>\n",
       "      <td>2024-05-20</td>\n",
       "      <td>0.34</td>\n",
       "      <td>1</td>\n",
       "      <td>169</td>\n",
       "      <td>1</td>\n",
       "      <td>85851/AL.</td>\n",
       "    </tr>\n",
       "  </tbody>\n",
       "</table>\n",
       "</div>"
      ],
      "text/plain": [
       "      id                                           name  host_id  host_name  \\\n",
       "0   6499           Belém 1 Bedroom Historical Apartment    14455      Bruno   \n",
       "1  25659  Heart of Alfama - Le cœur d'Alfama (3 people)   107347      Ellie   \n",
       "2  29396               Alfama Hill - Boutique apartment   126415     Mónica   \n",
       "3  29720                    TheHOUSE - Your luxury home   128075  Francisco   \n",
       "4  29915        Modern and Spacious Apartment in Lisboa   128890       Sara   \n",
       "\n",
       "  neighbourhood_group      neighbourhood  latitude  longitude  \\\n",
       "0              Lisboa               Belm  38.69750   -9.19768   \n",
       "1              Lisboa  Santa Maria Maior  38.71241   -9.12706   \n",
       "2              Lisboa  Santa Maria Maior  38.71156   -9.12987   \n",
       "3              Lisboa            Estrela  38.71108   -9.15979   \n",
       "4              Lisboa     Avenidas Novas  38.74571   -9.15264   \n",
       "\n",
       "         room_type   price  minimum_nights  number_of_reviews last_review  \\\n",
       "0  Entire home/apt    73.0               3                 82  2025-03-01   \n",
       "1  Entire home/apt   106.0               2                215  2024-11-11   \n",
       "2  Entire home/apt    75.0               3                416  2025-02-27   \n",
       "3  Entire home/apt  1065.0               2                142  2025-02-02   \n",
       "4  Entire home/apt    95.0               6                 61  2024-05-20   \n",
       "\n",
       "   reviews_per_month  calculated_host_listings_count  availability_365  \\\n",
       "0               0.64                               1               284   \n",
       "1               1.62                               1               298   \n",
       "2               2.67                               1               206   \n",
       "3               0.82                               1               247   \n",
       "4               0.34                               1               169   \n",
       "\n",
       "   number_of_reviews_ltm    license  \n",
       "0                     18        NaN  \n",
       "1                     13  56539/AL.  \n",
       "2                     30   28737/AL  \n",
       "3                     22   55695/AL  \n",
       "4                      1  85851/AL.  "
      ]
     },
     "execution_count": 15,
     "metadata": {},
     "output_type": "execute_result"
    }
   ],
   "source": [
    "listings.head()"
   ]
  },
  {
   "cell_type": "markdown",
   "id": "225c7b14-6d69-433c-9725-0b7bf877017f",
   "metadata": {},
   "source": [
    "Recommended Order (Mini Workflow):\n",
    "\n",
    "\t1.\t📊 Understand the structure\n",
    "\t•\tdf.info() → See data types & missing values\n",
    "\t•\tdf.describe() → See numeric summary\n",
    "\t•\tdf.isna().sum() → Count missing values\n",
    "\t•\tdf.nunique() → Check unique values per column\n",
    "\t2.\t🧹 Clean your data\n",
    "\t•\tHandle missing values (NaN)\n",
    "\t•\tConvert date columns if needed (pd.to_datetime())\n",
    "\t•\tRemove or filter outliers (like listings with price = 0 or over 10,000)\n",
    "\t•\tDrop unnecessary columns (e.g., license if it’s all null)\n",
    "\t3.\t📈 Then start visualizing\n",
    "\t•\tNow your plots will make sense and not be skewed by messy or invalid data."
   ]
  },
  {
   "cell_type": "code",
   "execution_count": 24,
   "id": "33724c65-132b-4142-85a4-cb6e186923a0",
   "metadata": {},
   "outputs": [
    {
     "name": "stdout",
     "output_type": "stream",
     "text": [
      "<class 'pandas.core.frame.DataFrame'>\n",
      "RangeIndex: 24264 entries, 0 to 24263\n",
      "Data columns (total 18 columns):\n",
      " #   Column                          Non-Null Count  Dtype  \n",
      "---  ------                          --------------  -----  \n",
      " 0   id                              24264 non-null  int64  \n",
      " 1   name                            24264 non-null  object \n",
      " 2   host_id                         24264 non-null  int64  \n",
      " 3   host_name                       24248 non-null  object \n",
      " 4   neighbourhood_group             24264 non-null  object \n",
      " 5   neighbourhood                   24264 non-null  object \n",
      " 6   latitude                        24264 non-null  float64\n",
      " 7   longitude                       24264 non-null  float64\n",
      " 8   room_type                       24264 non-null  object \n",
      " 9   price                           21079 non-null  float64\n",
      " 10  minimum_nights                  24264 non-null  int64  \n",
      " 11  number_of_reviews               24264 non-null  int64  \n",
      " 12  last_review                     20711 non-null  object \n",
      " 13  reviews_per_month               20711 non-null  float64\n",
      " 14  calculated_host_listings_count  24264 non-null  int64  \n",
      " 15  availability_365                24264 non-null  int64  \n",
      " 16  number_of_reviews_ltm           24264 non-null  int64  \n",
      " 17  license                         23044 non-null  object \n",
      "dtypes: float64(4), int64(7), object(7)\n",
      "memory usage: 3.3+ MB\n"
     ]
    }
   ],
   "source": [
    "listings.info()"
   ]
  },
  {
   "cell_type": "code",
   "execution_count": 30,
   "id": "e0d4404a-8068-428d-852d-5f68ab70fd10",
   "metadata": {},
   "outputs": [
    {
     "data": {
      "text/plain": [
       "count    21079.000000\n",
       "mean       156.624982\n",
       "std        576.065191\n",
       "min          8.000000\n",
       "25%         60.000000\n",
       "50%         87.000000\n",
       "75%        132.000000\n",
       "max      20000.000000\n",
       "Name: price, dtype: float64"
      ]
     },
     "execution_count": 30,
     "metadata": {},
     "output_type": "execute_result"
    }
   ],
   "source": [
    "listings['price'].describe()"
   ]
  }
 ],
 "metadata": {
  "kernelspec": {
   "display_name": "Python 3 (ipykernel)",
   "language": "python",
   "name": "python3"
  },
  "language_info": {
   "codemirror_mode": {
    "name": "ipython",
    "version": 3
   },
   "file_extension": ".py",
   "mimetype": "text/x-python",
   "name": "python",
   "nbconvert_exporter": "python",
   "pygments_lexer": "ipython3",
   "version": "3.12.4"
  }
 },
 "nbformat": 4,
 "nbformat_minor": 5
}
